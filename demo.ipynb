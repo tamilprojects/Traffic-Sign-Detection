{
 "cells": [
  {
   "cell_type": "code",
   "execution_count": 1,
   "metadata": {},
   "outputs": [
    {
     "name": "stdout",
     "output_type": "stream",
     "text": [
      "After swapping:\n",
      "a = 10\n",
      "b = 5\n"
     ]
    }
   ],
   "source": [
    "# Swapping two variables without using a third variable\n",
    "a = 5\n",
    "b = 10\n",
    "\n",
    "# Swap the values\n",
    "a, b = b, a\n",
    "\n",
    "print(\"After swapping:\")\n",
    "print(\"a =\", a)\n",
    "print(\"b =\", b)"
   ]
  },
  {
   "cell_type": "code",
   "execution_count": 7,
   "metadata": {},
   "outputs": [
    {
     "name": "stdout",
     "output_type": "stream",
     "text": [
      "book my is this\n"
     ]
    }
   ],
   "source": [
    "def reverse_word_order(text):\n",
    "    words = text.split()\n",
    "    reversed_words = words[::-1]\n",
    "    reversed_text = \" \".join(reversed_words)\n",
    "    return reversed_text\n",
    "\n",
    "\n",
    "a = \"this is my book\"\n",
    "\n",
    "result = reverse_word_order(a)\n",
    "print(result)"
   ]
  },
  {
   "cell_type": "code",
   "execution_count": 11,
   "metadata": {},
   "outputs": [
    {
     "name": "stdout",
     "output_type": "stream",
     "text": [
      "book my is this\n"
     ]
    }
   ],
   "source": [
    "def reverse_order_string(text):\n",
    "    text = text.split()\n",
    "    reverser_order = text[::-1]\n",
    "    return \" \".join(reverser_order)\n",
    "\n",
    "\n",
    "a = \"this is my book\"\n",
    "print(reverse_order_string(a))  # Output: 'book my is this'"
   ]
  },
  {
   "cell_type": "code",
   "execution_count": 29,
   "metadata": {},
   "outputs": [
    {
     "name": "stdout",
     "output_type": "stream",
     "text": [
      "atad\n"
     ]
    }
   ],
   "source": [
    "b = \"im a data Scientist\"\n",
    "print(b[8:4:-1])"
   ]
  },
  {
   "cell_type": "code",
   "execution_count": 20,
   "metadata": {},
   "outputs": [
    {
     "name": "stdout",
     "output_type": "stream",
     "text": [
      "[11, 13, 15, 17, 19, 21, 23, 25, 27, 29]\n"
     ]
    }
   ],
   "source": [
    "a = [i for i in range(11, 30) if i % 2 != 0]\n",
    "print(a)"
   ]
  },
  {
   "cell_type": "code",
   "execution_count": 26,
   "metadata": {},
   "outputs": [
    {
     "name": "stdout",
     "output_type": "stream",
     "text": [
      "[[[0 1 2]\n",
      "  [3 4 5]\n",
      "  [6 7 8]]]\n"
     ]
    },
    {
     "data": {
      "text/plain": [
       "3"
      ]
     },
     "execution_count": 26,
     "metadata": {},
     "output_type": "execute_result"
    }
   ],
   "source": [
    "import numpy as np\n",
    "\n",
    "a = np.arange(9).reshape(3, 3)\n",
    "\n",
    "a = np.expand_dims(a, axis=0)\n",
    "\n",
    "print(a)\n",
    "\n",
    "a.ndim"
   ]
  },
  {
   "cell_type": "code",
   "execution_count": 44,
   "metadata": {},
   "outputs": [
    {
     "name": "stdout",
     "output_type": "stream",
     "text": [
      "Cecilia\n"
     ]
    }
   ],
   "source": [
    "# names = [\"Cecilia\", \"Lise\", \"Marie\"]\n",
    "\n",
    "# counts = [len(names) for name in names]\n",
    "# longest_name = None\n",
    "\n",
    "# max_count = 0\n",
    "\n",
    "\n",
    "# for i, name in enumerate(names):\n",
    "#     count = counts[i]\n",
    "\n",
    "#     if count > max_count:\n",
    "#         max_count = count\n",
    "\n",
    "#         longest_name = name\n",
    "\n",
    "# print(longest_name)"
   ]
  },
  {
   "cell_type": "code",
   "execution_count": 61,
   "metadata": {},
   "outputs": [
    {
     "name": "stdout",
     "output_type": "stream",
     "text": [
      "Ram Kumar\n"
     ]
    }
   ],
   "source": [
    "names = [\n",
    "    \"Ram Kumar\",\n",
    "    \"Alice\",\n",
    "    \"Bob\",\n",
    "    \"Charlie\",\n",
    "    \"David rusuomie\",\n",
    "    \"Eve\",\n",
    "    \"Frank\",\n",
    "    \"Grace\",\n",
    "    \"Henry\",\n",
    "    \"Ivy\",\n",
    "]\n",
    "# Create a dictionary with names as keys and their corresponding scores as values\n",
    "\n",
    "counts = [len(names) for name in names]\n",
    "\n",
    "max_count = 0\n",
    "\n",
    "longest_name = None\n",
    "\n",
    "for i, name in enumerate(names):\n",
    "    count = counts[i]\n",
    "    if count > max_count:\n",
    "        max_count = count\n",
    "        longest_name = name\n",
    "\n",
    "print(longest_name)"
   ]
  }
 ],
 "metadata": {
  "kernelspec": {
   "display_name": "Python 3",
   "language": "python",
   "name": "python3"
  },
  "language_info": {
   "codemirror_mode": {
    "name": "ipython",
    "version": 3
   },
   "file_extension": ".py",
   "mimetype": "text/x-python",
   "name": "python",
   "nbconvert_exporter": "python",
   "pygments_lexer": "ipython3",
   "version": "3.12.2"
  }
 },
 "nbformat": 4,
 "nbformat_minor": 2
}
